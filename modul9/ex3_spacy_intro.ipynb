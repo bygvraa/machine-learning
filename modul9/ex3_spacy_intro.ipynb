{
 "cells": [
  {
   "cell_type": "code",
   "execution_count": 20,
   "metadata": {
    "id": "Uhfj7_tW7W2q"
   },
   "outputs": [],
   "source": [
    "# Intro to Spacy"
   ]
  },
  {
   "cell_type": "code",
   "execution_count": 21,
   "metadata": {
    "id": "4OeGejvV7lsr"
   },
   "outputs": [],
   "source": [
    "import spacy\n",
    "# Load the installed model \"en_core_web_sm\"\n",
    "nlp = spacy.load(\"en_core_web_sm\")"
   ]
  },
  {
   "cell_type": "code",
   "execution_count": 22,
   "metadata": {
    "colab": {
     "base_uri": "https://localhost:8080/"
    },
    "id": "5y5wosb17sH1",
    "outputId": "ab6bbf3c-0641-4bc6-b65b-c1a72e48fc21"
   },
   "outputs": [
    {
     "data": {
      "text/plain": [
       "['This', 'is', 'a', 'text']"
      ]
     },
     "execution_count": 22,
     "metadata": {},
     "output_type": "execute_result"
    }
   ],
   "source": [
    "doc = nlp(\"This is a text\")\n",
    "\n",
    "# Token texts\n",
    "[token.text for token in doc]\n",
    "# ['This', 'is', 'a', 'text']"
   ]
  },
  {
   "cell_type": "code",
   "execution_count": 23,
   "metadata": {
    "colab": {
     "base_uri": "https://localhost:8080/",
     "height": 35
    },
    "id": "knE128Tp7zo6",
    "outputId": "a3cbdd5e-6c27-405f-92f4-b6c3f8a03178"
   },
   "outputs": [
    {
     "data": {
      "text/plain": [
       "'a text'"
      ]
     },
     "execution_count": 23,
     "metadata": {},
     "output_type": "execute_result"
    }
   ],
   "source": [
    "doc = nlp(\"This is a text\")\n",
    "\n",
    "span = doc[2:4]\n",
    "span.text"
   ]
  },
  {
   "cell_type": "code",
   "execution_count": 24,
   "metadata": {
    "colab": {
     "base_uri": "https://localhost:8080/"
    },
    "id": "aujf4iiS7_ia",
    "outputId": "25f2c8ad-3ad8-484c-d0d8-f3ca1425988e"
   },
   "outputs": [
    {
     "data": {
      "text/plain": [
       "['PRON', 'AUX', 'DET', 'NOUN', 'PUNCT']"
      ]
     },
     "execution_count": 24,
     "metadata": {},
     "output_type": "execute_result"
    }
   ],
   "source": [
    "doc = nlp(\"This is a text.\")\n",
    "\n",
    "# Coarse-grained part-of-speech tags\n",
    "[token.pos_ for token in doc]\n",
    "# ['DET', 'VERB', 'DET', 'NOUN', 'PUNCT']\n",
    "\n",
    "# Fine-grained part-of-speech tags\n",
    "# [token.tag_ for token in doc]\n",
    "# ['DT', 'VBZ', 'DT', 'NN', '.']"
   ]
  },
  {
   "cell_type": "code",
   "execution_count": 25,
   "metadata": {
    "colab": {
     "base_uri": "https://localhost:8080/"
    },
    "id": "7ZFbofWa8e5k",
    "outputId": "68c319d1-bc5f-4f9b-d471-8df940994ee6"
   },
   "outputs": [
    {
     "data": {
      "text/plain": [
       "[('Larry Page', 'PERSON'), ('Google', 'ORG')]"
      ]
     },
     "execution_count": 25,
     "metadata": {},
     "output_type": "execute_result"
    }
   ],
   "source": [
    "doc = nlp(\"Larry Page founded Google\")\n",
    "# Text and label of named entity span\n",
    "[(ent.text, ent.label_) for ent in doc.ents]\n",
    "# [('Larry Page', 'PERSON'), ('Google', 'ORG')]"
   ]
  },
  {
   "cell_type": "code",
   "execution_count": 26,
   "metadata": {
    "colab": {
     "base_uri": "https://localhost:8080/"
    },
    "id": "vRMvLT448l6q",
    "outputId": "10b38610-be6e-4340-f184-53c59c1af8fa"
   },
   "outputs": [
    {
     "data": {
      "text/plain": [
       "['This a sentence.', 'This is another one.']"
      ]
     },
     "execution_count": 26,
     "metadata": {},
     "output_type": "execute_result"
    }
   ],
   "source": [
    "doc = nlp(\"This a sentence. This is another one.\")\n",
    "# doc.sents is a generator that yields sentence spans\n",
    "[sent.text for sent in doc.sents]\n",
    "# ['This is a sentence.', 'This is another one.']"
   ]
  },
  {
   "cell_type": "code",
   "execution_count": 27,
   "metadata": {
    "id": "WUTR0GOw8wch"
   },
   "outputs": [],
   "source": [
    "# Comparing similarity"
   ]
  },
  {
   "cell_type": "code",
   "execution_count": 28,
   "metadata": {
    "id": "rSAwL9xd9jsG"
   },
   "outputs": [],
   "source": [
    "nlp = spacy.load(\"en_core_web_md\")"
   ]
  },
  {
   "cell_type": "code",
   "execution_count": 48,
   "metadata": {
    "colab": {
     "base_uri": "https://localhost:8080/"
    },
    "id": "E2ZuGWLu82Fj",
    "outputId": "5188a75b-5c87-4783-caf5-1b8dda3c0396"
   },
   "outputs": [
    {
     "name": "stdout",
     "output_type": "stream",
     "text": [
      "0.9853113936930281\n",
      "0.8753712773323059\n",
      "0.35636189579963684\n"
     ]
    }
   ],
   "source": [
    "doc1 = nlp(\"I like cats\")\n",
    "doc2 = nlp(\"I like dogs\")\n",
    "\n",
    "# Compare 2 documents\n",
    "print(doc1.similarity(doc2))\n",
    "\n",
    "# Compare 2 tokens\n",
    "print(doc1[2].similarity(doc2[2]))\n",
    "\n",
    "# Compare tokens and spans\n",
    "print(doc1[0].similarity(doc2[1:3]))"
   ]
  },
  {
   "cell_type": "code",
   "execution_count": 49,
   "metadata": {
    "colab": {
     "base_uri": "https://localhost:8080/"
    },
    "id": "87DK_P76-Xli",
    "outputId": "d2631261-9700-4ce2-ffb0-53e57186b2db"
   },
   "outputs": [
    {
     "data": {
      "text/plain": [
       "0.7272915484427941"
      ]
     },
     "execution_count": 49,
     "metadata": {},
     "output_type": "execute_result"
    }
   ],
   "source": [
    "doc1 = nlp(\"Jeg kan godt lide at bygge modeller\")\n",
    "doc2 = nlp(\"Konstruktion af modeller er noget jeg synes om\")\n",
    "\n",
    "# Compare 2 documents\n",
    "doc1.similarity(doc2)"
   ]
  },
  {
   "cell_type": "code",
   "execution_count": 31,
   "metadata": {
    "colab": {
     "base_uri": "https://localhost:8080/"
    },
    "id": "vsmjAAxg-lpn",
    "outputId": "fc76d0ff-1b68-4a39-b4f0-84d6334e6e3e"
   },
   "outputs": [
    {
     "data": {
      "text/plain": [
       "0.24033794179199525"
      ]
     },
     "execution_count": 31,
     "metadata": {},
     "output_type": "execute_result"
    }
   ],
   "source": [
    "doc1 = nlp(\"han går til fodbold\")\n",
    "doc2 = nlp(\"bageren har åbent idag. De sælger krokoskager\")\n",
    "\n",
    "# Compare 2 documents\n",
    "doc1.similarity(doc2)"
   ]
  },
  {
   "cell_type": "code",
   "execution_count": 32,
   "metadata": {},
   "outputs": [],
   "source": [
    "from spacy import displacy"
   ]
  }
 ],
 "metadata": {
  "colab": {
   "provenance": []
  },
  "kernelspec": {
   "display_name": "Python 3 (ipykernel)",
   "language": "python",
   "name": "python3"
  },
  "language_info": {
   "codemirror_mode": {
    "name": "ipython",
    "version": 3
   },
   "file_extension": ".py",
   "mimetype": "text/x-python",
   "name": "python",
   "nbconvert_exporter": "python",
   "pygments_lexer": "ipython3",
   "version": "3.11.6"
  }
 },
 "nbformat": 4,
 "nbformat_minor": 1
}
